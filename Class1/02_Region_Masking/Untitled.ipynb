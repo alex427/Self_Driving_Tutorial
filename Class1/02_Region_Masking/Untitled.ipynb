{
 "cells": [
  {
   "cell_type": "code",
   "execution_count": 1,
   "metadata": {},
   "outputs": [
    {
     "name": "stdout",
     "output_type": "stream",
     "text": [
      "[[0 1 2]\n",
      " [0 1 2]\n",
      " [0 1 2]]\n",
      "------------\n",
      "[[0 0 0]\n",
      " [1 1 1]\n",
      " [2 2 2]]\n",
      "------------\n",
      "[[0 2 4]\n",
      " [1 3 5]\n",
      " [2 4 6]]\n",
      "------------\n",
      "[array([[0, 1, 2],\n",
      "       [0, 1, 2],\n",
      "       [0, 1, 2]]), array([[0, 0, 0],\n",
      "       [1, 1, 1],\n",
      "       [2, 2, 2]])]\n"
     ]
    }
   ],
   "source": [
    "import numpy as np\n",
    "x=3\n",
    "y=3\n",
    "xx,yy=np.meshgrid(np.arange(0,x),np.arange(0,y))\n",
    "print(xx)\n",
    "print(\"------------\")\n",
    "print(yy)\n",
    "print(\"------------\")\n",
    "zz=xx*2+yy\n",
    "print(zz)\n",
    "print(\"------------\")\n",
    "qq=np.meshgrid(np.arange(0,x),np.arange(0,y))\n",
    "print(qq)"
   ]
  },
  {
   "cell_type": "code",
   "execution_count": 3,
   "metadata": {},
   "outputs": [
    {
     "name": "stdout",
     "output_type": "stream",
     "text": [
      "[5 6]\n"
     ]
    }
   ],
   "source": [
    "print(np.arange(5,7))"
   ]
  },
  {
   "cell_type": "code",
   "execution_count": null,
   "metadata": {},
   "outputs": [],
   "source": [
    "import numpy as np\n",
    "from matplotlib import pyplot as plt\n",
    " \n",
    "def f(x):\n",
    "    return x**2+1\n",
    "def f_fit(x,y_fit):\n",
    "    a,b,c=y_fit.tolist()\n",
    "    return a*x**2+b*x+c\n",
    "x=np.linspace(-5,5)\n",
    "y=f(x)+np.random.randn(len(x))#加入噪音\n",
    "y_fit=np.polyfit(x,y,2)#二次多项式拟合\n",
    "y_show=np.poly1d(y_fit)#函数优美的形式\n",
    "print(y_show)#打印\n",
    "y1=f_fit(x,y_fit)\n",
    "plt.plot(x,f(x),'r',label='original')\n",
    "plt.scatter(x,y,c='g',label='before_fitting')#散点图\n",
    "plt.plot(x,y1,'b--',label='fitting')\n",
    "plt.title('polyfitting')\n",
    "plt.xlabel('x')\n",
    "plt.ylabel('y')\n",
    "plt.legend()#显示标签\n",
    "plt.show()\n"
   ]
  },
  {
   "cell_type": "code",
   "execution_count": 4,
   "metadata": {},
   "outputs": [
    {
     "name": "stdout",
     "output_type": "stream",
     "text": [
      "[1.91902132 1.02476494]\n",
      "[1.91902132 1.02476494]\n"
     ]
    },
    {
     "data": {
      "image/png": "[encoded data removed]",
      "text/plain": [
       "<Figure size 432x288 with 1 Axes>"
      ]
     },
     "metadata": {},
     "output_type": "display_data"
    }
   ],
   "source": [
    "import numpy as np\n",
    "from matplotlib import pyplot as plt\n",
    " \n",
    "def linear_regression(x,y):\n",
    "    #y=bx+a，线性回归\n",
    "    num=len(x)\n",
    "    b=(np.sum(x*y)-num*np.mean(x)*np.mean(y))/(np.sum(x*x)-num*np.mean(x)**2)\n",
    "    a=np.mean(y)-b*np.mean(x)\n",
    "    return np.array([b,a])\n",
    "def f(x):\n",
    "    return 2*x+1\n",
    "x=np.linspace(-5,5)\n",
    "y=f(x)+np.random.randn(len(x))#加入噪音\n",
    "y_fit=np.polyfit(x,y,1)#一次多项式拟合，也就是线性回归\n",
    "print(linear_regression(x,y))\n",
    "print(y_fit)\n",
    "plt.plot(x,f(x),'r',label='original')\n",
    "plt.scatter(x,y,c='g',label='before_fitting')#散点图\n",
    "plt.plot(x,x*y_fit[0]+y_fit[1],'b--',label='fitting')#通过polyfit获取的直线\n",
    "plt.title('polyfitting')\n",
    "plt.xlabel('x')\n",
    "plt.ylabel('y')\n",
    "plt.legend()#显示标签\n",
    "plt.show()\n"
   ]
  }
 ],
 "metadata": {
  "kernelspec": {
   "display_name": "Python 3",
   "language": "python",
   "name": "python3"
  },
  "language_info": {
   "codemirror_mode": {
    "name": "ipython",
    "version": 3
   },
   "file_extension": ".py",
   "mimetype": "text/x-python",
   "name": "python",
   "nbconvert_exporter": "python",
   "pygments_lexer": "ipython3",
   "version": "3.6.5"
  }
 },
 "nbformat": 4,
 "nbformat_minor": 2
}
